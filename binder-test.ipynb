{
 "cells": [
  {
   "cell_type": "markdown",
   "id": "6bb91e1c",
   "metadata": {},
   "source": [
    "## Setup\n",
    "\n",
    "Create a new Git repository:\n",
    "```bash\n",
    "$ git init binder-test\n",
    "Initialized empty Git repository in /binder-test/.git/\n",
    "```\n",
    "\n",
    "`cd` into the `binder-test` directory:\n",
    "```bash\n",
    "$ cd binder-test\n",
    "```\n",
    "\n",
    "Create a virtual environment to isolate the dependencies, using [virtualenvwrapper](https://virtualenvwrapper.readthedocs.io/en/latest/):\n",
    "\n",
    "```bash\n",
    "$ mkvirtualenv -p $(which python3) binder-test\n",
    "Running virtualenv with interpreter /Library/Frameworks/Python.framework/Versions/3.8/bin/python3\n",
    "Using base prefix '/Library/Frameworks/Python.framework/Versions/3.8'\n",
    "/Users/wittkuhn/.brew/brew/lib/python2.7/site-packages/virtualenv.py:1041: DeprecationWarning: the imp module is deprecated in favour of importlib; see the module's documentation for alternative uses\n",
    "  import imp\n",
    "New python executable in /Users/wittkuhn/.virtualenvs/binder-test/bin/python3\n",
    "Also creating executable in /Users/wittkuhn/.virtualenvs/binder-test/bin/python\n",
    "Installing setuptools, pip, wheel...done.\n",
    "virtualenvwrapper.user_scripts creating /Users/wittkuhn/.virtualenvs/binder-test/bin/predeactivate\n",
    "virtualenvwrapper.user_scripts creating /Users/wittkuhn/.virtualenvs/binder-test/bin/postdeactivate\n",
    "virtualenvwrapper.user_scripts creating /Users/wittkuhn/.virtualenvs/binder-test/bin/preactivate\n",
    "virtualenvwrapper.user_scripts creating /Users/wittkuhn/.virtualenvs/binder-test/bin/postactivate\n",
    "virtualenvwrapper.user_scripts creating /Users/wittkuhn/.virtualenvs/binder-test/bin/get_env_details\n",
    "```\n",
    "\n",
    "Inside the virtual environment (also called `binder-test`), we can install relevant packages using `pip`:\n",
    "\n",
    "```bash\n",
    "(binder-test) $ pip install notebook\n",
    "```\n",
    "\n",
    "Start the notebook server using\n",
    "```bash\n",
    "(binder-test) $ jupyter notebook\n",
    "```\n",
    "On the notebook server, create a new notebook, e.g., `binder-test.ipynb` (thee notebook you are currently looking at)."
   ]
  },
  {
   "cell_type": "code",
   "execution_count": null,
   "id": "bcb06dd9",
   "metadata": {},
   "outputs": [],
   "source": [
    "## Interlude: README.md and `.gitignore`\n",
    "- Create a README.md (using your favorite text editor or `vim README.md`)\n",
    "- Create a `.gitignore` file and start ignoring `.ipynb_checkpoints`"
   ]
  }
 ],
 "metadata": {
  "kernelspec": {
   "display_name": "Python 3",
   "language": "python",
   "name": "python3"
  },
  "language_info": {
   "codemirror_mode": {
    "name": "ipython",
    "version": 3
   },
   "file_extension": ".py",
   "mimetype": "text/x-python",
   "name": "python",
   "nbconvert_exporter": "python",
   "pygments_lexer": "ipython3",
   "version": "3.8.6"
  }
 },
 "nbformat": 4,
 "nbformat_minor": 5
}
