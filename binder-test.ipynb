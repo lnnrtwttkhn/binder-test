{
 "cells": [
  {
   "cell_type": "code",
   "execution_count": null,
   "id": "b97d2fd4",
   "metadata": {},
   "outputs": [],
   "source": [
    "import os\n",
    "import nest_asyncio\n",
    "nest_asyncio.apply()\n",
    "import datalad.api as dl\n",
    "from nilearn.plotting import plot_anat"
   ]
  },
  {
   "cell_type": "code",
   "execution_count": null,
   "id": "ba4556ea",
   "metadata": {},
   "outputs": [],
   "source": [
    "# we clone a public BIDS dataset from GIN into the /input directory:\n",
    "dl.clone(source='https://gin.g-node.org/lnnrtwttkhn/highspeed-bids', path='input')\n",
    "# we list the contents of the /input directory:\n",
    "print(sorted(os.listdir('input')))"
   ]
  },
  {
   "cell_type": "code",
   "execution_count": null,
   "id": "66ad3f1b",
   "metadata": {},
   "outputs": [],
   "source": [
    "# we specify a path to the T1 of sub-01 and get the data\n",
    "path_anat = os.path.join('input', 'sub-01', 'ses-01', 'anat', 'sub-01_ses-01_rec-prenorm_T1w.nii.gz')\n",
    "dl.get(path_anat)"
   ]
  },
  {
   "cell_type": "code",
   "execution_count": null,
   "id": "205415c4",
   "metadata": {},
   "outputs": [],
   "source": [
    "# we plot the T1:\n",
    "plot_anat(path_anat, title=\"T1 of 'sub-01\")"
   ]
  },
  {
   "cell_type": "markdown",
   "id": "cb539c3d",
   "metadata": {},
   "source": [
    "## Setup\n",
    "\n",
    "Create a new Git repository:\n",
    "```bash\n",
    "$ git init binder-test\n",
    "Initialized empty Git repository in /binder-test/.git/\n",
    "```\n",
    "\n",
    "`cd` into the `binder-test` directory:\n",
    "```bash\n",
    "$ cd binder-test\n",
    "```\n",
    "\n",
    "Create a virtual environment to isolate the dependencies, using [virtualenvwrapper](https://virtualenvwrapper.readthedocs.io/en/latest/):\n",
    "\n",
    "```bash\n",
    "$ mkvirtualenv -p $(which python3) binder-test\n",
    "Running virtualenv with interpreter /Library/Frameworks/Python.framework/Versions/3.8/bin/python3\n",
    "Using base prefix '/Library/Frameworks/Python.framework/Versions/3.8'\n",
    "/Users/wittkuhn/.brew/brew/lib/python2.7/site-packages/virtualenv.py:1041: DeprecationWarning: the imp module is deprecated in favour of importlib; see the module's documentation for alternative uses\n",
    "  import imp\n",
    "New python executable in /Users/wittkuhn/.virtualenvs/binder-test/bin/python3\n",
    "Also creating executable in /Users/wittkuhn/.virtualenvs/binder-test/bin/python\n",
    "Installing setuptools, pip, wheel...done.\n",
    "virtualenvwrapper.user_scripts creating /Users/wittkuhn/.virtualenvs/binder-test/bin/predeactivate\n",
    "virtualenvwrapper.user_scripts creating /Users/wittkuhn/.virtualenvs/binder-test/bin/postdeactivate\n",
    "virtualenvwrapper.user_scripts creating /Users/wittkuhn/.virtualenvs/binder-test/bin/preactivate\n",
    "virtualenvwrapper.user_scripts creating /Users/wittkuhn/.virtualenvs/binder-test/bin/postactivate\n",
    "virtualenvwrapper.user_scripts creating /Users/wittkuhn/.virtualenvs/binder-test/bin/get_env_details\n",
    "```\n",
    "\n",
    "Inside the virtual environment (also called `binder-test`), we can install relevant packages using `pip`:\n",
    "\n",
    "```bash\n",
    "(binder-test) $ pip install notebook\n",
    "```\n",
    "\n",
    "Start the notebook server using\n",
    "```bash\n",
    "(binder-test) $ jupyter notebook\n",
    "```\n",
    "On the notebook server, create a new notebook, e.g., `binder-test.ipynb` (thee notebook you are currently looking at)."
   ]
  },
  {
   "cell_type": "markdown",
   "id": "9e7057e6",
   "metadata": {},
   "source": [
    "## Interlude: README.md and `.gitignore`\n",
    "- Create a README.md (using your favorite text editor or `vim README.md`)\n",
    "- Create a `.gitignore` file and start ignoring `.ipynb_checkpoints`"
   ]
  },
  {
   "cell_type": "markdown",
   "id": "4919b243",
   "metadata": {},
   "source": [
    "## Allow to run kernel inside virtual environment\n",
    "\n",
    "To run a Jupyter notebook kernel inside the virtual environment that you create above, you need run the following command once:\n",
    "\n",
    "```bash\n",
    "$ python -m ipykernel install --user --name=binder-test\n",
    "```\n",
    "\n",
    "This command should output something like:\n",
    "\n",
    "```bash\n",
    "Installed kernelspec binder-test in /Users/wittkuhn/Library/Jupyter/kernels/binder-test\n",
    "```\n",
    "\n",
    "Note that `ipykernel` has to be installed using `pip install ipykernel` but this should have happened when you ran `pip install notebook` before.\n",
    "\n",
    "When you now restart the notebook, you should be able to select the virtual environment (`binder-test` in this case) in the menu bar under `Kernel` > `Change kernel` > `binder-test`"
   ]
  },
  {
   "cell_type": "markdown",
   "id": "8a1437fb",
   "metadata": {},
   "source": [
    "## Create list of packages\n",
    "\n",
    "From inside the virtual environment run:\n",
    "\n",
    "```bash\n",
    "$ pip freeze > requirements.txt\n",
    "```\n",
    "This will create a list of all the installed packages and save the list into the `requirements.txt` file. "
   ]
  },
  {
   "cell_type": "markdown",
   "id": "c97fc44e",
   "metadata": {},
   "source": [
    "## Packages installed\n",
    "- `pip install notebook`\n",
    "- `pip install datalad`\n",
    "- `pip install nest_asyncio`\n",
    "- `pip install nilearn`\n",
    "- `pip install matplotlib`\n",
    "- `pip install nbdime` (for git diffing jupyter notebooks)"
   ]
  },
  {
   "cell_type": "markdown",
   "id": "9593b2a5",
   "metadata": {},
   "source": [
    "## References\n",
    "- [Plotting tools in Nilearn](https://nilearn.github.io/auto_examples/01_plotting/plot_demo_plotting.html)\n",
    "- [Running Jupyter notebooks inside virtual environments](https://janakiev.com/blog/jupyter-virtual-envs/)\n",
    "- [DataLad Python reference](http://docs.datalad.org/en/stable/modref.html)\n",
    "- [virtualenvwrapper documentation](https://virtualenvwrapper.readthedocs.io/en/latest/)\n",
    "- [Jupyter notebook documentation](https://jupyter-notebook.readthedocs.io/en/stable/notebook.html)\n",
    "- [`nbdime` for diffing Juypter notebooks](https://test-nbdime.readthedocs.io/en/latest/installing.html)\n",
    "- [BIDS dataset by Wittkuhn & Schuck, 2021](https://gin.g-node.org/lnnrtwttkhn/highspeed-bids)"
   ]
  }
 ],
 "metadata": {
  "kernelspec": {
   "display_name": "binder-test",
   "language": "python",
   "name": "binder-test"
  },
  "language_info": {
   "codemirror_mode": {
    "name": "ipython",
    "version": 3
   },
   "file_extension": ".py",
   "mimetype": "text/x-python",
   "name": "python",
   "nbconvert_exporter": "python",
   "pygments_lexer": "ipython3",
   "version": "3.8.6"
  }
 },
 "nbformat": 4,
 "nbformat_minor": 5
}
